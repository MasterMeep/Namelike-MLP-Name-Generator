{
 "cells": [
  {
   "cell_type": "code",
   "execution_count": 43,
   "metadata": {},
   "outputs": [],
   "source": [
    "# ----- Imports ----- #\n",
    "import torch\n",
    "import torch.nn.functional as F\n",
    "import matplotlib.pyplot as plt\n",
    "import numpy as np\n",
    "import random\n",
    "\n",
    "words = open(\"names.txt\").read().splitlines()"
   ]
  },
  {
   "cell_type": "code",
   "execution_count": 44,
   "metadata": {},
   "outputs": [],
   "source": [
    "# ----- Vocab Mapping ----- #\n",
    "chars = sorted(list(set(\"\".join(words))))\n",
    "string_to_int = {c: i+1 for i, c in enumerate(chars)}\n",
    "string_to_int[\".\"] = 0\n",
    "integer_to_string = {i: c for c, i in string_to_int.items()}"
   ]
  },
  {
   "cell_type": "code",
   "execution_count": 45,
   "metadata": {},
   "outputs": [],
   "source": [
    "# ----- Build Dataset Function ----- #\n",
    "\n",
    "block_size = 3\n",
    "\n",
    "def build_dataset(words):\n",
    "    contexts, targets = [], []\n",
    "    for word in words:\n",
    "        context = [0] * block_size\n",
    "        for char in word + \".\":\n",
    "            int_char = string_to_int[char]\n",
    "            contexts.append(context)\n",
    "            targets.append(int_char)\n",
    "            \n",
    "            context = context[1:] + [int_char]\n",
    "    \n",
    "    contexts = torch.tensor(contexts)\n",
    "    targets = torch.tensor(targets)\n",
    "    \n",
    "    return contexts, targets\n",
    "\n",
    "# ----- Shuffle and Split Dataset (train: 80%, dev: 10%, test: 10%) ----- #\n",
    "\n",
    "random.seed(42) # for reproducibility\n",
    "random.shuffle(words)\n",
    "\n",
    "train_split_index = int(len(words) * 0.8)\n",
    "dev_split_index = int(len(words) * 0.9)\n",
    "\n",
    "X_train, y_train = build_dataset(words[:train_split_index]) # 80% of data\n",
    "X_dev, y_dev = build_dataset(words[train_split_index:dev_split_index]) # 10% of data\n",
    "X_test, y_test = build_dataset(words[dev_split_index:]) # 10% of data"
   ]
  },
  {
   "cell_type": "code",
   "execution_count": 47,
   "metadata": {},
   "outputs": [],
   "source": [
    "# ----- Hyperparameters ----- #\n",
    "generator = torch.Generator().manual_seed(2147483647) # for reproducibility\n",
    "\n",
    "vocab_size = len(chars) + 1 # +1 for the padding character\n",
    "learning_rate = 0.1\n",
    "mini_batch_size = 32\n",
    "hidden_size = 200 # neurons in hidden layer\n",
    "embedding_size = 10 # dimension of embedding vector i.e a -> [0.1, 0.2, 0.3, ...] of shape: (1, embedding_size)\n",
    "\n",
    "# ----- Generate Initial Model Parameters ----- #\n",
    "\n",
    "lookup_table = torch.randn((vocab_size, embedding_size), generator=generator)\n",
    "\n",
    "weights1 = torch.randn((embedding_size*block_size, hidden_size), generator=generator) * (5/3)*((embedding_size*block_size)**0.5) #kaiming init\n",
    "biases1 = torch.randn(hidden_size, generator=generator) * 0.01\n",
    "\n",
    "weights2 = torch.randn((hidden_size, vocab_size), generator=generator) * 0.01\n",
    "biases2 = torch.randn(vocab_size, generator=generator) * 0.0\n",
    "\n",
    "batch_norm_gain = torch.ones((1,hidden_size))\n",
    "batch_norm_bias = torch.zeros((1,hidden_size))\n",
    "\n",
    "parameters = [lookup_table, weights1, biases1, weights2, biases2, batch_norm_gain, batch_norm_bias]\n",
    "for parameter in parameters:\n",
    "    parameter.requires_grad = True"
   ]
  },
  {
   "cell_type": "code",
   "execution_count": 48,
   "metadata": {},
   "outputs": [],
   "source": [
    "# ----- Logging ----- #\n",
    "lr_exponent = np.linspace(-3, 0, 1000)\n",
    "lr_iteraters = 10 ** lr_exponent\n",
    "\n",
    "loss_axis = []\n",
    "step_axis = []"
   ]
  },
  {
   "cell_type": "code",
   "execution_count": 49,
   "metadata": {},
   "outputs": [
    {
     "name": "stdout",
     "output_type": "stream",
     "text": [
      "      0/ 100000: 3.3113\n",
      "   5000/ 100000: 2.2925\n",
      "  10000/ 100000: 2.1535\n",
      "  15000/ 100000: 2.2057\n",
      "  20000/ 100000: 2.3715\n",
      "  25000/ 100000: 2.2751\n",
      "  30000/ 100000: 2.5858\n",
      "  35000/ 100000: 2.4493\n",
      "  40000/ 100000: 1.9727\n",
      "  45000/ 100000: 1.8123\n",
      "  50000/ 100000: 2.5283\n",
      "  55000/ 100000: 2.1224\n",
      "  60000/ 100000: 2.3814\n",
      "  65000/ 100000: 1.9456\n",
      "  70000/ 100000: 2.1330\n",
      "  75000/ 100000: 2.6134\n",
      "  80000/ 100000: 2.3786\n",
      "  85000/ 100000: 2.1904\n",
      "  90000/ 100000: 2.1835\n",
      "  95000/ 100000: 2.0776\n"
     ]
    }
   ],
   "source": [
    "# ----- Training Loop ----- #\n",
    "\n",
    "max_steps = 100000\n",
    "\n",
    "for i in range(max_steps):\n",
    "    # ----- Mini-batch ----- #\n",
    "    mini_batch_indicies = torch.randint(0, X_train.shape[0], (mini_batch_size,), generator=generator)\n",
    "    \n",
    "    \n",
    "    # ----- Forward pass ----- #\n",
    "    embedings = lookup_table[X_train[mini_batch_indicies]]\n",
    "    # view transforms the tensor into a 2D matrix of [batch_size, block_size*embedding_size]\n",
    "    embeded_concat = embedings.view(-1,block_size*embedding_size)\n",
    "    output1_pre = embeded_concat @ weights1 + biases1\n",
    "    output1_pre = batch_norm_gain * ((output1_pre - output1_pre.mean()) / output1_pre.std()) + batch_norm_bias # batch norm\n",
    "    output1 = torch.tanh(output1_pre)\n",
    "    logits = output1 @ weights2 + biases2\n",
    "\n",
    "    loss = F.cross_entropy(logits, y_train[mini_batch_indicies])\n",
    "    \n",
    "    # ----- Backwards pass ----- #\n",
    "    for parameter in parameters:\n",
    "        parameter.grad = None\n",
    "\n",
    "    loss.backward()    \n",
    "\n",
    "    #learning_rate = lr_iteraters[i] # uncomment for logging\n",
    "    for parameter in parameters:\n",
    "        parameter.data -= learning_rate * parameter.grad\n",
    "        \n",
    "    # ----- Logging ----- #\n",
    "    #learning_rate_axis.append(lr_exponent[i])\n",
    "    loss_axis.append(loss.log10().item())\n",
    "    step_axis.append(i)\n",
    "    \n",
    "    if i % 5000 == 0: # every 5000 steps log the loss\n",
    "        print(f'{i:7d}/{max_steps:7d}: {loss.item():.4f}') # print(step/max_steps: loss)\n",
    "    loss_axis.append(loss.log10().item()) # log10 smooths out loss curve"
   ]
  },
  {
   "cell_type": "code",
   "execution_count": null,
   "metadata": {},
   "outputs": [
    {
     "data": {
      "text/plain": [
       "[<matplotlib.lines.Line2D at 0x1ab0425e2c0>]"
      ]
     },
     "execution_count": 41,
     "metadata": {},
     "output_type": "execute_result"
    },
    {
     "data": {
      "image/png": "[encoded data removed]",
      "text/plain": [
       "<Figure size 432x288 with 1 Axes>"
      ]
     },
     "metadata": {
      "needs_background": "light"
     },
     "output_type": "display_data"
    }
   ],
   "source": [
    "plt.plot(loss_axis)"
   ]
  }
 ],
 "metadata": {
  "kernelspec": {
   "display_name": "LLM",
   "language": "python",
   "name": "python3"
  },
  "language_info": {
   "codemirror_mode": {
    "name": "ipython",
    "version": 3
   },
   "file_extension": ".py",
   "mimetype": "text/x-python",
   "name": "python",
   "nbconvert_exporter": "python",
   "pygments_lexer": "ipython3",
   "version": "3.10.11"
  },
  "orig_nbformat": 4
 },
 "nbformat": 4,
 "nbformat_minor": 2
}
