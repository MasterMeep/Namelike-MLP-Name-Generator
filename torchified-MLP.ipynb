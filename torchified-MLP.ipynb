{
 "cells": [
  {
   "cell_type": "code",
   "execution_count": 104,
   "metadata": {},
   "outputs": [],
   "source": [
    "# ----- Imports ----- #\n",
    "import torch\n",
    "import torch.nn.functional as F\n",
    "import matplotlib.pyplot as plt\n",
    "import numpy as np\n",
    "import random\n",
    "\n",
    "words = open(\"names.txt\").read().splitlines()"
   ]
  },
  {
   "cell_type": "code",
   "execution_count": 105,
   "metadata": {},
   "outputs": [],
   "source": [
    "# ----- Vocab Mapping ----- #\n",
    "chars = sorted(list(set(\"\".join(words))))\n",
    "string_to_int = {c: i+1 for i, c in enumerate(chars)}\n",
    "string_to_int[\".\"] = 0\n",
    "integer_to_string = {i: c for c, i in string_to_int.items()}"
   ]
  },
  {
   "cell_type": "code",
   "execution_count": 106,
   "metadata": {},
   "outputs": [],
   "source": [
    "# ----- Build Dataset Function ----- #\n",
    "\n",
    "block_size = 3\n",
    "\n",
    "def build_dataset(words):\n",
    "    contexts, targets = [], []\n",
    "    for word in words:\n",
    "        context = [0] * block_size\n",
    "        for char in word + \".\":\n",
    "            int_char = string_to_int[char]\n",
    "            contexts.append(context)\n",
    "            targets.append(int_char)\n",
    "            \n",
    "            context = context[1:] + [int_char]\n",
    "    \n",
    "    contexts = torch.tensor(contexts)\n",
    "    targets = torch.tensor(targets)\n",
    "    \n",
    "    return contexts, targets\n",
    "\n",
    "# ----- Shuffle and Split Dataset (train: 80%, dev: 10%, test: 10%) ----- #\n",
    "\n",
    "random.seed(42) # for reproducibility\n",
    "random.shuffle(words)\n",
    "\n",
    "train_split_index = int(len(words) * 0.8)\n",
    "dev_split_index = int(len(words) * 0.9)\n",
    "\n",
    "X_train, y_train = build_dataset(words[:train_split_index]) # 80% of data\n",
    "X_dev, y_dev = build_dataset(words[train_split_index:dev_split_index]) # 10% of data\n",
    "X_test, y_test = build_dataset(words[dev_split_index:]) # 10% of data"
   ]
  },
  {
   "cell_type": "code",
   "execution_count": 107,
   "metadata": {},
   "outputs": [],
   "source": [
    "class Linear:\n",
    "    def __init__(self, fan_in, fan_out):\n",
    "        self.weights = torch.randn(fan_in, fan_out) / fan_in ** 0.5\n",
    "        self.biases = torch.zeros(fan_out)\n",
    "\n",
    "    def __call__(self, inputs):\n",
    "        self.output = inputs @ self.weights\n",
    "        \n",
    "        if self.biases is not None:\n",
    "            self.output += self.biases\n",
    "        \n",
    "        return self.output\n",
    "    \n",
    "    def parameters(self):\n",
    "        if self.biases is not None:\n",
    "            return [self.weights, self.biases]\n",
    "        else:\n",
    "            return [self.weights]"
   ]
  },
  {
   "cell_type": "code",
   "execution_count": 108,
   "metadata": {},
   "outputs": [],
   "source": [
    "class BatchNorm1d:\n",
    "    def __init__(self, dimension, epsilon=1e-5, momentum=0.1):\n",
    "        self.epsilon = epsilon\n",
    "        self.momentum = momentum\n",
    "        self.training = True\n",
    "        \n",
    "        # ----- Parameters Trained With Back Prop (gain and bias) ----- #\n",
    "        self.gamma = torch.ones(dimension)\n",
    "        self.beta = torch.zeros(dimension)\n",
    "        \n",
    "        # ----- Running Mean and Variance ----- #\n",
    "        self.mean = torch.zeros(dimension)\n",
    "        self.var = torch.ones(dimension)\n",
    "        \n",
    "    def __call__(self, inputs):\n",
    "        if self.training:\n",
    "            batch_mean = inputs.mean(0, keepdim=True)\n",
    "            batch_variance = inputs.var(0, keepdim=True)\n",
    "        else:\n",
    "            batch_mean = self.mean\n",
    "            batch_variance = self.var\n",
    "        \n",
    "        normalized_inputs = (inputs - batch_mean) / (batch_variance + self.epsilon) ** 0.5\n",
    "        self.output = self.gamma * normalized_inputs + self.beta\n",
    "        \n",
    "        if self.training:\n",
    "            with torch.no_grad():\n",
    "                self.mean = self.mean * self.momentum + batch_mean * (1 - self.momentum)\n",
    "                self.var = self.var * self.momentum + batch_variance * (1 - self.momentum)\n",
    "        return self.output\n",
    "    \n",
    "    def parameters(self):\n",
    "        return [self.gamma, self.beta]"
   ]
  },
  {
   "cell_type": "code",
   "execution_count": 109,
   "metadata": {},
   "outputs": [],
   "source": [
    "class Tanh:\n",
    "    def __call__(self, inputs):\n",
    "        self.output = torch.tanh(inputs)\n",
    "        return self.output\n",
    "    \n",
    "    def parameters(self):\n",
    "        return []"
   ]
  },
  {
   "cell_type": "code",
   "execution_count": 110,
   "metadata": {},
   "outputs": [],
   "source": [
    "embedding_size = 10\n",
    "hidden_node_count = 100\n",
    "vocab_size = len(chars) + 1\n",
    "mini_batch_size = 32\n",
    "\n",
    "generator = torch.Generator().manual_seed(2147483647) # for reproducibility\n",
    "\n",
    "lookup_table = torch.randn((vocab_size, embedding_size), generator=generator)\n",
    "\n",
    "layers = [\n",
    "    Linear(embedding_size * block_size, hidden_node_count), Tanh(),\n",
    "    Linear(hidden_node_count, hidden_node_count), Tanh(),\n",
    "    Linear(hidden_node_count, hidden_node_count), Tanh(),\n",
    "    Linear(hidden_node_count, hidden_node_count), Tanh(),\n",
    "    Linear(hidden_node_count, hidden_node_count), Tanh(),\n",
    "    Linear(hidden_node_count, vocab_size)\n",
    "]\n",
    "\n",
    "with torch.no_grad():\n",
    "    #make last layer less confident\n",
    "    layers[-1].weights *= 0.1\n",
    "    for layer in layers:\n",
    "        if isinstance(layer, Linear):\n",
    "            layer.weights *= 5/3 #kaiming init\n",
    "            \n",
    "parameters = [lookup_table] + [parameter for layer in layers for parameter in layer.parameters()]\n",
    "for parameter in parameters:\n",
    "    parameter.requires_grad = True\n"
   ]
  },
  {
   "cell_type": "code",
   "execution_count": 111,
   "metadata": {},
   "outputs": [
    {
     "name": "stdout",
     "output_type": "stream",
     "text": [
      "      0/ 100000: 3.2802\n",
      "   5000/ 100000: 2.4703\n",
      "  10000/ 100000: 2.2225\n",
      "  15000/ 100000: 2.1580\n",
      "  20000/ 100000: 1.8526\n",
      "  25000/ 100000: 2.1141\n",
      "  30000/ 100000: 1.9193\n",
      "  35000/ 100000: 2.2503\n",
      "  40000/ 100000: 2.5243\n",
      "  45000/ 100000: 1.7792\n",
      "  50000/ 100000: 2.2235\n",
      "  55000/ 100000: 2.1160\n",
      "  60000/ 100000: 1.7000\n",
      "  65000/ 100000: 1.8024\n",
      "  70000/ 100000: 2.2251\n",
      "  75000/ 100000: 1.9491\n",
      "  80000/ 100000: 1.9286\n",
      "  85000/ 100000: 2.0513\n",
      "  90000/ 100000: 1.8302\n",
      "  95000/ 100000: 2.1089\n"
     ]
    }
   ],
   "source": [
    "# ----- Training Loop ----- #\n",
    "\n",
    "max_steps = 100000\n",
    "\n",
    "for i in range(max_steps):\n",
    "    # ----- Generate Mini Batch ----- #\n",
    "    mini_batch_indices = torch.randint(0, len(X_train), (mini_batch_size,), generator=generator)\n",
    "    input_mini, output_mini = X_train[mini_batch_indices], y_train[mini_batch_indices]\n",
    "    \n",
    "    # ----- Forward Pass ----- #\n",
    "    embedded_inputs = lookup_table[input_mini]\n",
    "    output = embedded_inputs.view(embedded_inputs.shape[0], -1) # flatten enbedded inputs to 2D tensor for input to linear layer\n",
    "    for layer in layers:\n",
    "        output = layer(output)\n",
    "    \n",
    "    loss = F.cross_entropy(output, output_mini)\n",
    "    \n",
    "    # ----- Backward Pass ----- #\n",
    "    for layer in layers:\n",
    "        layer.output.retain_grad()\n",
    "    for parameter in parameters:\n",
    "        parameter.grad = None\n",
    "    loss.backward()\n",
    "    \n",
    "    # ----- Update Parameters ----- #\n",
    "    learning_rate = 0.1 if i < 100000 else 0.01 # learning rate decay\n",
    "    for parameter in parameters:\n",
    "        parameter.data -= learning_rate * parameter.grad\n",
    "    \n",
    "    # ----- Track Stats ----- #\n",
    "    if i % 5000 == 0: # every 5000 steps log the loss\n",
    "        print(f'{i:7d}/{max_steps:7d}: {loss.item():.4f}') # print(step/max_steps: loss)\n",
    "    #break # remove this line to train the model, keep to look at graph"
   ]
  },
  {
   "cell_type": "code",
   "execution_count": 112,
   "metadata": {},
   "outputs": [
    {
     "name": "stdout",
     "output_type": "stream",
     "text": [
      "layer 1 (      Tanh): mean -0.000011, std 3.262367e-03\n",
      "layer 3 (      Tanh): mean +0.000022, std 3.167631e-03\n",
      "layer 5 (      Tanh): mean -0.000039, std 3.042150e-03\n",
      "layer 7 (      Tanh): mean -0.000036, std 3.172030e-03\n",
      "layer 9 (      Tanh): mean -0.000003, std 4.234679e-03\n"
     ]
    },
    {
     "data": {
      "text/plain": [
       "Text(0.5, 1.0, 'gradient distribution')"
      ]
     },
     "execution_count": 112,
     "metadata": {},
     "output_type": "execute_result"
    },
    {
     "data": {
      "image/png": "[encoded data removed]",
      "text/plain": [
       "<Figure size 1440x288 with 1 Axes>"
      ]
     },
     "metadata": {
      "needs_background": "light"
     },
     "output_type": "display_data"
    }
   ],
   "source": [
    "# ----- Histogram of Tanh Layers ----- #\n",
    "plt.figure(figsize=(20, 4)) # width and height of the plot\n",
    "legends = []\n",
    "for i, layer in enumerate(layers[:-1]): # note: exclude the output layer\n",
    "    if isinstance(layer, Tanh):\n",
    "        t = layer.output.grad\n",
    "        print('layer %d (%10s): mean %+f, std %e' % (i, layer.__class__.__name__, t.mean(), t.std()))\n",
    "        hy, hx = torch.histogram(t, density=True)\n",
    "        plt.plot(hx[:-1].detach(), hy.detach())\n",
    "        legends.append(f'layer {i} ({layer.__class__.__name__}')\n",
    "plt.legend(legends);\n",
    "plt.title('gradient distribution')"
   ]
  },
  {
   "cell_type": "code",
   "execution_count": 113,
   "metadata": {},
   "outputs": [
    {
     "name": "stdout",
     "output_type": "stream",
     "text": [
      "eriah.\n",
      "myah.\n",
      "keen.\n",
      "ndery.\n",
      "lorethruthadrieg.\n",
      "adee.\n",
      "daeline.\n",
      "mylonna.\n",
      "keisencanar.\n",
      "kate.\n",
      "monte.\n",
      "cayshabergiaganest.\n",
      "jairenderrenter.\n",
      "fouszenedi.\n",
      "kymbuezeki.\n",
      "kayshayveude.\n",
      "hel.\n",
      "salynn.\n",
      "khazelloveuren.\n",
      "credis.\n"
     ]
    }
   ],
   "source": [
    "g = torch.Generator().manual_seed(2147483647 + 10)\n",
    "\n",
    "for _ in range(20):\n",
    "    \n",
    "    out = []\n",
    "    context = [0] * block_size # initialize with all ...\n",
    "    while True:\n",
    "        # forward pass the neural net\n",
    "        emb = lookup_table[torch.tensor([context])] # (1,block_size,n_embd)\n",
    "        x = emb.view(emb.shape[0], -1) # concatenate the vectors\n",
    "        for layer in layers:\n",
    "            x = layer(x)\n",
    "        logits = x\n",
    "        probs = F.softmax(logits, dim=1)\n",
    "        # sample from the distribution\n",
    "        ix = torch.multinomial(probs, num_samples=1, generator=g).item()\n",
    "        # shift the context window and track the samples\n",
    "        context = context[1:] + [ix]\n",
    "        out.append(ix)\n",
    "        # if we sample the special '.' token, break\n",
    "        if ix == 0:\n",
    "            break\n",
    "    \n",
    "    print(''.join(integer_to_string[i] for i in out)) # decode and print the generated word"
   ]
  }
 ],
 "metadata": {
  "kernelspec": {
   "display_name": "LLM",
   "language": "python",
   "name": "python3"
  },
  "language_info": {
   "codemirror_mode": {
    "name": "ipython",
    "version": 3
   },
   "file_extension": ".py",
   "mimetype": "text/x-python",
   "name": "python",
   "nbconvert_exporter": "python",
   "pygments_lexer": "ipython3",
   "version": "3.10.11"
  },
  "orig_nbformat": 4
 },
 "nbformat": 4,
 "nbformat_minor": 2
}
